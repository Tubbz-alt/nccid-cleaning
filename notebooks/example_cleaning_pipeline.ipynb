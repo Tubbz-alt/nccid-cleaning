{
 "cells": [
  {
   "cell_type": "markdown",
   "metadata": {},
   "source": [
    "# Example Cleaning Pipeline\n",
    "\n",
    "This notebook demonstrates how to run the NCCID notebook using an dummy dataset."
   ]
  },
  {
   "cell_type": "code",
   "execution_count": null,
   "metadata": {},
   "outputs": [],
   "source": [
    "import pandas as pd\n",
    "from nccid_cleaning import clean_data_df, patient_df_pipeline"
   ]
  },
  {
   "cell_type": "markdown",
   "metadata": {},
   "source": [
    "The example data contains 10 synthesized rows of NCCID clinical data and a subset of the possible columns. The columns have been chosen to be representative of the different types of information available, i.e., dates, categories, integers, floats, whilst also covering the known data quality issues within, i.e., typos in headings, incorrect formats, values embedded in strings, values outside of category ranges etc. \n",
    "\n",
    "Broadly speaking the NCCID clinical data can be split into 5 groups:\n",
    "- general: PatientID, SubmittingCentre, swab status, demographics\n",
    "- date: swab dates, scan dates, date of admission, intubation death etc.,\n",
    "- medical history: usually categorical e.g, presence of pre-existing lung conditions\n",
    "- admission metrics: usually numerical, e.g., heart rate on admission,\n",
    "- outcomes: usually categorial, e.g., test results, x-ray severity, death.\n",
    "\n",
    "The data is broken down into these 5 groups in the subsequent analysis of the cleaning pipeline. "
   ]
  },
  {
   "cell_type": "markdown",
   "metadata": {},
   "source": [
    "## Run the cleaning pipeline"
   ]
  },
  {
   "cell_type": "markdown",
   "metadata": {},
   "source": [
    "The full cleaning pipeline can be called using the imported Collection 'patient_df_pipeline'. Rather than replacing the original data the pipeline creates new columns with lowercase and underscored columns names. For example, the clean version of 'Date of admission' becomes 'date_of_admission'."
   ]
  },
  {
   "cell_type": "code",
   "execution_count": null,
   "metadata": {},
   "outputs": [],
   "source": [
    "# load example df\n",
    "df = pd.read_csv(\"data/example.csv\")\n",
    "df.head()"
   ]
  },
  {
   "cell_type": "code",
   "execution_count": null,
   "metadata": {},
   "outputs": [],
   "source": [
    "# run clinical cleaning pipeline\n",
    "clean_df = clean_data_df(df, patient_df_pipeline)\n",
    "clean_df.head()"
   ]
  },
  {
   "cell_type": "code",
   "execution_count": null,
   "metadata": {},
   "outputs": [],
   "source": [
    "# just the new cleaned columns\n",
    "clean_df[[col for col in clean_df.columns if col.islower()]].head()"
   ]
  },
  {
   "cell_type": "code",
   "execution_count": null,
   "metadata": {},
   "outputs": [],
   "source": [
    "def compare_dfs(columns, df, clean_df):\n",
    "    \"\"\"Creates dataframe with equivalent columns side by side.\n",
    "\n",
    "    Params\n",
    "    -------\n",
    "    columns: list\n",
    "             list of original column names\n",
    "    df: pd.DataFrame\n",
    "        original data\n",
    "    clean_df: pd.DataFrame\n",
    "        cleaned data\n",
    "\n",
    "    Returns\n",
    "    -------\n",
    "    comp_df: pd.DataFrame\n",
    "            comparision dataframe with equivalent columns side by side.\n",
    "    \"\"\"\n",
    "\n",
    "    comp_df = pd.concat(\n",
    "        [\n",
    "            pd.concat(\n",
    "                (df[col], clean_df[col.lower().replace(\" \", \"_\")]), axis=1\n",
    "            )\n",
    "            for col in columns\n",
    "        ],\n",
    "        axis=1,\n",
    "    )\n",
    "    return comp_df"
   ]
  },
  {
   "cell_type": "markdown",
   "metadata": {},
   "source": [
    "### General Columns\n",
    "\n",
    "Columns like Pseudonym and Submitting centre are have already been preprocessed by the NCCID ingestion pipeline. As such subsequent cleaning is not applied to these columns. \n",
    "\n",
    "Mixed formats have been used in the demographic columns ethnicity and sex, where categories are submitting in multiple ways. For sex the mapping is simple, e.g., ```0``` to ```F```, ```1``` to ```M```. For ethnicity, various subgroups are aggregated into the broader set of ethnicity groupings: white, black, asain, multiple, other, unknown. \n"
   ]
  },
  {
   "cell_type": "code",
   "execution_count": null,
   "metadata": {},
   "outputs": [],
   "source": [
    "gen_df = compare_dfs([\"Ethnicity\", \"Age\", \"Sex\"], df, clean_df)\n",
    "pd.concat((df[[\"Pseudonym\", \"SubmittingCentre\"]], gen_df), axis=1)"
   ]
  },
  {
   "cell_type": "markdown",
   "metadata": {},
   "source": [
    "### Date cleaning\n",
    "The majority of date columns, including ```Date of admission```, are submitted in US date format MM/DD/YYYY or some variant (e.g, M/D/YY). As such the cleaning pipeline assumes ```month_first=True``` for most date columns when coercing into pd.datetime. The exception is ```SwabDate``` which is submitted in UK format and therefore treated separately. \n",
    "\n",
    "Known errors in date entry include submissions of the string format ```[Text] - YYYY-MM-DD```, for which the date is extracted using regex. Other errors such as non-date entries (row 7) are cast to ```NaT```. \n",
    "\n",
    "In some cases, dates have been submitted in the wrong format (day first instead of month first or vice versa). The cleaning pipeline cannot correct for ambiguous cases, such as 05/06, and users should look to additional sources such as DICOM header dates to corroborate where possible. "
   ]
  },
  {
   "cell_type": "code",
   "execution_count": null,
   "metadata": {},
   "outputs": [],
   "source": [
    "# original and cleaned date columns\n",
    "compare_dfs([\"SwabDate\", \"Date of admission\"], df, clean_df)"
   ]
  }
 ],
 "metadata": {
  "kernelspec": {
   "display_name": "Python [conda env:Python3]",
   "language": "python",
   "name": "conda-env-Python3-py"
  },
  "language_info": {
   "codemirror_mode": {
    "name": "ipython",
    "version": 3
   },
   "file_extension": ".py",
   "mimetype": "text/x-python",
   "name": "python",
   "nbconvert_exporter": "python",
   "pygments_lexer": "ipython3",
   "version": "3.6.10"
  }
 },
 "nbformat": 4,
 "nbformat_minor": 2
}
